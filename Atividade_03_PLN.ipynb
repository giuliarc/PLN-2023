{
  "nbformat": 4,
  "nbformat_minor": 0,
  "metadata": {
    "colab": {
      "provenance": [],
      "collapsed_sections": [
        "ZjXBfNHwarfV"
      ]
    },
    "kernelspec": {
      "name": "python3",
      "display_name": "Python 3"
    }
  },
  "cells": [
    {
      "cell_type": "markdown",
      "metadata": {
        "id": "Y6QILOdpOjwv"
      },
      "source": [
        "# **Processamento de Linguagem Natural [2023.Q3]**\n",
        "Prof. Alexandre Donizeti Alves"
      ]
    },
    {
      "cell_type": "markdown",
      "metadata": {
        "id": "8m67OOx9MX_3"
      },
      "source": [
        "### **ATIVIDADE PRÁTICA 03 [Tutorial sobre uma API]**\n",
        "\n",
        "---"
      ]
    },
    {
      "cell_type": "markdown",
      "metadata": {
        "id": "5Gk0nHKabBT-"
      },
      "source": [
        "A **ATIVIDADE PRÁTICA 03** deve ser feita utilizando o **Google Colab** com uma conta\n",
        "sua vinculada ao Gmail. O link do seu notebook, armazenado no Google Drive, além do link de um repositório no GitHub e os principais resultados da atividade, devem ser enviados usando o seguinte formulário:\n",
        "\n",
        "> https://forms.gle/nPsWnUuE5GCeXaiU8 (**AINDA EM CONSTRUÇÃO**)\n",
        "\n",
        "\n",
        "**IMPORTANTE**: A submissão deve ser feita APENAS POR UM INTEGRANTE DA EQUIPE até o dia 02/11 (quinta-feira - até às 23h59). Por favor, lembre-se de dar permissão de ACESSO IRRESTRITO para o professor da disciplina de PLN."
      ]
    },
    {
      "cell_type": "markdown",
      "metadata": {
        "id": "D7hJlilKM485"
      },
      "source": [
        "### **EQUIPE**\n",
        "\n",
        "---"
      ]
    },
    {
      "cell_type": "markdown",
      "source": [
        "**POR FAVOR, PREENCHER OS INTEGRANDES DA SUA EQUIPE:**\n",
        "\n",
        "\n",
        "**Integrante 01:**\n",
        "\n",
        "Giulia Ribeiro de Carvalho - 11019616\n"
      ],
      "metadata": {
        "id": "tnIArN0QY-Ek"
      }
    },
    {
      "cell_type": "markdown",
      "source": [
        "### **API**\n",
        "---"
      ],
      "metadata": {
        "id": "6yExhaebs-nD"
      }
    },
    {
      "cell_type": "markdown",
      "source": [
        "**QUAL A API SELECIONADA POR SUA EQUIPE?**\n",
        "\n",
        "`API: ` Wikipedia (MediaWiki API)\n",
        "\n",
        "`Site oficial: ` https://pt.wikipedia.org/wiki/Wikip%C3%A9dia:Central_de_pesquisas/Portal_de_dados/API\n",
        "\n",
        "`Link para a documentação oficial:` https://en.wikipedia.org/w/api.php"
      ],
      "metadata": {
        "id": "DjJM_qhEZRy6"
      }
    },
    {
      "cell_type": "markdown",
      "metadata": {
        "id": "EtjgWQRzNphL"
      },
      "source": [
        "### **DESCRIÇÃO**\n",
        "---"
      ]
    },
    {
      "cell_type": "markdown",
      "source": [
        "Implementar um `notebook` no `Google Colab` para demonstrar passo a passo como usar uma determinada **API** em `Python`, ou seja, criar um **TUTORIAL** destacando desde a instalação e configuração da **API** até as principais finalidades. O **TUTORIAL** deve ser o mais completo possível, com diversos exemplos de uso e permitindo ser facilmente reproduzido.\n",
        "\n",
        "A **API** deve ser selecionada na seguinte planilha:\n",
        "\n",
        "https://docs.google.com/spreadsheets/d/1-Q1szJ3UmoE2_3LtcRQyqid5fPIcnpsR3XAPnoxLj2o/edit?usp=sharing\n",
        "\n",
        ">\n",
        "\n",
        "**IMPORTANTE:** É obrigatório usar o e-mail da UFABC.\n",
        "\n",
        ">\n",
        "\n",
        "**DICA:** Por favor, insira o seu nome ou da sua equipe na ordem definida na planilha. A escolha da **API** deve ser feita de acordo com a lista disponibilizada na planilha. Cada **API** só pode ser escolhida por, no **MÁXIMO**, 2 equipes."
      ],
      "metadata": {
        "id": "fXTwkiiGs2BV"
      }
    },
    {
      "cell_type": "markdown",
      "source": [
        "### **ROTEIRO PARA APRESENTAÇÃO DE UMA API**\n",
        "\n",
        "---\n",
        ">\n",
        "\n",
        "\n",
        "**IMPORTANTE**: consulta feita no ChatGPT\n",
        "\n",
        ">\n",
        "\n",
        "Como escrever um tutorial sobre uma API em Python usando o Google Colab com foco nas etapas essenciais. Aqui está um guia rápido:\n",
        "\n",
        ">\n",
        "\n",
        "* **Passo 01: Introdução**\n",
        "\n",
        "  >  Apresente a API que você está explicando.\n",
        "\n",
        "  >  Explique por que é útil ou relevante.\n",
        "\n",
        "* **Passo 02: Configuração no Google Colab**\n",
        "\n",
        "  > Explique como os leitores podem abrir um novo notebook no Google Colab.\n",
        "\n",
        "  > Mostre como importar bibliotecas necessárias.\n",
        "\n",
        "  > Instrua sobre como instalar quaisquer bibliotecas adicionais, se necessário.\n",
        "\n",
        "* **Passo 03: Autenticação (se aplicável)**\n",
        "\n",
        "  > Descreva como configurar a autenticação, caso a API exija.\n",
        "\n",
        "  > Forneça orientações sobre a obtenção de chaves de API ou tokens.\n",
        "\n",
        "* **Passo 04: Utilização Básica da API**\n",
        "\n",
        "  > Demonstre como fazer uma solicitação simples à API.\n",
        "\n",
        "  > Mostre como processar a resposta da API.\n",
        "\n",
        "* **Passo 05: Exemplos Práticos**\n",
        "\n",
        "  > Forneça exemplos práticos e úteis que os leitores podem seguir.\n",
        "\n",
        "  > Mostre como aplicar a API em cenários do mundo real.\n",
        "\n",
        "\n",
        "* **Passo 06: Considerações**\n",
        "\n",
        "  > Recapitule os principais pontos do tutorial.\n",
        "\n",
        "  > Incentive os leitores a explorar mais a API e experimentar por conta própria.\n",
        "\n",
        "* **Passo 07: Publicação**\n",
        "\n",
        "   > Considere compartilhar seu tutorial em plataformas como Medium, GitHub (obrigatório) ou seu blog pessoal.\n",
        "\n",
        "* **Passo 08: Promoção**\n",
        "\n",
        "  > Compartilhe seu tutorial nas redes sociais, grupos de desenvolvedores e fóruns relevantes.\n",
        "\n",
        "**IMPORTANTE**: Lembre-se de manter o tutorial curto e direto ao ponto. Use exemplos de código eficazes e forneça informações práticas que os leitores possam seguir facilmente. O Google Colab é uma ótima plataforma para compartilhar tutoriais, pois permite que os leitores executem o código diretamente no navegador.\n"
      ],
      "metadata": {
        "id": "wbICIIGcYPNf"
      }
    },
    {
      "cell_type": "markdown",
      "source": [
        "### **CRITÉRIOS DE AVALIAÇÃO**\n",
        "---\n"
      ],
      "metadata": {
        "id": "gWsBYQNtxmum"
      }
    },
    {
      "cell_type": "markdown",
      "source": [
        "As 3 equipes que **criarem os melhores tutoriais**  terão o peso diminuido na AVALIAÇÃO (Prova Escrita) em **25%** (caindo de 40 para 30).\n",
        "\n",
        "**IMPORTANTE**: a diminuição no peso da AVALIAÇÃO será aplicado para todos os membros da equipe.\n",
        "\n",
        "\n",
        "\n"
      ],
      "metadata": {
        "id": "5iHdx4BXYruQ"
      }
    },
    {
      "cell_type": "markdown",
      "source": [
        "### **TUTORIAL**\n",
        "---"
      ],
      "metadata": {
        "id": "nw09lujGvfjc"
      }
    },
    {
      "cell_type": "markdown",
      "source": [
        "## **MediaWiki** **API**"
      ],
      "metadata": {
        "id": "5q9zcrJj0n4H"
      }
    },
    {
      "cell_type": "markdown",
      "source": [
        "#### **INTRODUÇÃO**"
      ],
      "metadata": {
        "id": "ZM2EJhRIaaa2"
      }
    },
    {
      "cell_type": "markdown",
      "source": [
        "O serviço de API (*application Programming Interface*) da Wikipedia permite que o usuário acesse diretamente o banco de dados do MediaWiki (Wikipedia).\n",
        "\n",
        "A API permite executar tarefas de extração e manipulação de dados da Wiki, executando desde consultas simples em páginas até edições automáticas em documentos, a partir de requisições do tipo HTTP.\n",
        "\n",
        "As informações acessadas através da API podem ser páginas e artigos, propriedades das páginas, metadados sobre a Wiki e usuários, dentre outras.\n",
        "\n",
        "A utilização da API apresenta uma forma simplificada e flexível de obtenção de informações e dados da Wikipedia, dando ao usuário diversas possibilidades de manipulação de informações e integração com diferentes ferramentas e plataformas.\n",
        "\n"
      ],
      "metadata": {
        "id": "FjG5RIW5bMfd"
      }
    },
    {
      "cell_type": "markdown",
      "source": [
        "#### **CONFIGURAÇÃO**"
      ],
      "metadata": {
        "id": "5DIH_lmdaqrh"
      }
    },
    {
      "cell_type": "markdown",
      "source": [
        "##### As requisições da API podem ser feitas utilizando o método HTTP. Para isto, podemos configurar uma conexão usando a biblioteca *requests*\n"
      ],
      "metadata": {
        "id": "eM8xnmK-4BLJ"
      }
    },
    {
      "cell_type": "code",
      "source": [
        "! pip install requests\n"
      ],
      "metadata": {
        "id": "oqM3mRBsbBYZ",
        "colab": {
          "base_uri": "https://localhost:8080/"
        },
        "outputId": "fbbd39e6-ac61-475c-9bb6-98f2d9f69d65"
      },
      "execution_count": 1,
      "outputs": [
        {
          "output_type": "stream",
          "name": "stdout",
          "text": [
            "Requirement already satisfied: requests in /usr/local/lib/python3.10/dist-packages (2.31.0)\n",
            "Requirement already satisfied: charset-normalizer<4,>=2 in /usr/local/lib/python3.10/dist-packages (from requests) (3.3.1)\n",
            "Requirement already satisfied: idna<4,>=2.5 in /usr/local/lib/python3.10/dist-packages (from requests) (3.4)\n",
            "Requirement already satisfied: urllib3<3,>=1.21.1 in /usr/local/lib/python3.10/dist-packages (from requests) (2.0.7)\n",
            "Requirement already satisfied: certifi>=2017.4.17 in /usr/local/lib/python3.10/dist-packages (from requests) (2023.7.22)\n"
          ]
        }
      ]
    },
    {
      "cell_type": "code",
      "source": [
        "import requests\n"
      ],
      "metadata": {
        "id": "WyZdXaY062BI"
      },
      "execution_count": 8,
      "outputs": []
    },
    {
      "cell_type": "markdown",
      "source": [],
      "metadata": {
        "id": "DugeLrFzBDej"
      }
    },
    {
      "cell_type": "markdown",
      "source": [],
      "metadata": {
        "id": "FZGGryxDtT7Q"
      }
    },
    {
      "cell_type": "markdown",
      "source": [
        "#### **AUTENTICAÇÃO**"
      ],
      "metadata": {
        "id": "SwZgsj4narLo"
      }
    },
    {
      "cell_type": "markdown",
      "source": [
        "A MediaWiki API também permite que os usuários efetuem a autenticação na plataforma. A autenticação não é obrigatória para a utilização da API, mas mostra-se necessária para realizar tarefas como edição e modificação de conteúdo, por exemplo.\n",
        "\n",
        "Mais detalhes sobre autenticação podem ser consultados em: https://www.mediawiki.org/wiki/API:Login\n",
        "\n",
        "Abaixo, temos um exemplo simples de como configurar a autenticação na plataforma. No caso, o código disponibilizado pela própria documentação da MediaWiki API (https://www.mediawiki.org/wiki/API:Login#Example_1:_Process_for_a_wiki_without_special_authentication_extensions) foi adaptado, já que no Colab não implementamos a ferramenta Flask (utilizada para aplicações web).\n",
        "\n",
        "**Lembre-se que, para códigos que serão compartilhados, o ideal é utilizar métodos seguros de autenticação para evitar exposição indevida de credenciais.**\n"
      ],
      "metadata": {
        "id": "ojbVKgTyFzV2"
      }
    },
    {
      "cell_type": "code",
      "source": [
        "import requests\n",
        "\n",
        "URL = \"https://en.wikipedia.org/w/api.php\"\n",
        "S = requests.Session()\n",
        "\n",
        "def start_client_login(username, password):\n",
        "    \"\"\" Simulando o login na API da Wikipedia \"\"\"\n",
        "\n",
        "    login_token = fetch_login_token()\n",
        "\n",
        "    response = S.post(url=URL, data={\n",
        "        'action': \"clientlogin\",\n",
        "        'username': username,\n",
        "        'password': password,\n",
        "        'loginreturnurl': 'http://127.0.0.1:5000/',\n",
        "        'logintoken': login_token,\n",
        "        'format': \"json\"\n",
        "    })\n",
        "\n",
        "    data = response.json()\n",
        "\n",
        "    if data.get('clientlogin', {}).get('status') == 'PASS':\n",
        "        return 'Login success! Welcome, ' + data['clientlogin']['username']\n",
        "    else:\n",
        "        return 'Oops! Something went wrong -- ' + data['clientlogin']['messagecode']\n",
        "\n",
        "def fetch_login_token():\n",
        "    \"\"\" Simulando a obtenção de um token de login via `tokens` module \"\"\"\n",
        "\n",
        "    response = S.get(\n",
        "        url=URL,\n",
        "        params={\n",
        "            'action': \"query\",\n",
        "            'meta': \"tokens\",\n",
        "            'type': \"login\",\n",
        "            'format': \"json\"\n",
        "        })\n",
        "    data = response.json()\n",
        "    return data['query']['tokens']['logintoken']\n",
        "\n"
      ],
      "metadata": {
        "colab": {
          "base_uri": "https://localhost:8080/"
        },
        "id": "R_BK7xzrrA-Z",
        "outputId": "6c846f94-73fd-413f-f08a-14db35c20e24"
      },
      "execution_count": 64,
      "outputs": [
        {
          "output_type": "stream",
          "name": "stdout",
          "text": [
            "Login success! Welcome, Giuliabutterfly\n"
          ]
        }
      ]
    },
    {
      "cell_type": "code",
      "source": [
        "# Utilizando a função para efetuar o login.\n",
        "## LEMBRE-SE DE NÃO DEIXAR SUA SENHA PESSOAL EXPOSTA AO COMPARTILHAR O CÓDIGO ##\n",
        "\n",
        "# Exemplo de uso\n",
        "username = \"meu-usuario\"\n",
        "password = \"minha-senha-de-login-na-wikipedia\"\n",
        "result = start_client_login(username, password)\n",
        "print(result)"
      ],
      "metadata": {
        "id": "MfiG2cqNsFuQ"
      },
      "execution_count": null,
      "outputs": []
    },
    {
      "cell_type": "markdown",
      "source": [
        "#### **UTILIZAÇÃO BÁSICA**"
      ],
      "metadata": {
        "id": "ZjXBfNHwarfV"
      }
    },
    {
      "cell_type": "markdown",
      "source": [
        "Para o teste de utilização básica da API, iremos utilizar a URL principal da versão da Wikipedia em português.\n",
        "Caso desejemos, é possível realizar a busca em outras das diversas versões da Wiki em diferentes idiomas, bastaria alterar a URL para a versão com o idioma desejado, por exemplo \"https://en.wikipedia.org/w/api.php\" para a Wiki em inglês."
      ],
      "metadata": {
        "id": "7zbpY1e6TpM0"
      }
    },
    {
      "cell_type": "code",
      "source": [
        "# Criando uma função básica que faz uma requisição simples à API e testando conexão\n",
        "\n",
        "\n",
        "def consulta_basica_wiki(busca):\n",
        "\n",
        "  \"\"\"\n",
        "  Realiza uma busca à API da Wikipedia por meio de requisição HTTP e verifica\n",
        "  se a requisição foi bem sucedida.\n",
        "\n",
        "  Argumentos:\n",
        "  busca(str): Refere-se ao elemento a ser buscado na Wikipedia\n",
        "\n",
        "  Retorna:\n",
        "  str: O conteúdo do artigo correspondente ao elemento pesquisado.\n",
        "       Retona uma mensagem de erro caso não seja encontrado o elemento.\n",
        "\n",
        "  \"\"\"\n",
        "\n",
        "  url_principal = \"https://pt.wikipedia.org/w/api.php\"\n",
        "\n",
        "  parametros = {\n",
        "      \"action\": \"query\",\n",
        "      \"format\": \"json\",\n",
        "      \"prop\": \"extracts\",\n",
        "      \"titles\": busca,\n",
        "      \"formatversion\": \"2\"\n",
        "  }\n",
        "\n",
        "  resposta = requests.get(url_principal, params=parametros)\n",
        "\n",
        "  if resposta.status_code == 200:\n",
        "    try:\n",
        "      dados = resposta.json()\n",
        "      conteudo = dados['query']['pages'][0]['extract']\n",
        "      return conteudo\n",
        "    except (KeyError, IndexError) as e:\n",
        "      return f\"Falha ao pesquisar por '{busca}'\"\n",
        "  else:\n",
        "    return \"Falha ao recuperar conteúdo da Wikipedia\""
      ],
      "metadata": {
        "id": "bNqB40PlbAWx"
      },
      "execution_count": null,
      "outputs": []
    },
    {
      "cell_type": "markdown",
      "source": [
        "A API permite a configuração de diversos parâmetros de busca. No exemplo acima, **action** define qual a ação a ser realizada na API; **format** especifica o formato de resposta desejada; **prop** define as propriedades que devem ser retornadas no(s) artigo(s) buscado(s); **titles** refere-se ao título/elemento a ser pesquisado; **formarversion** define a versão do formato de resposta desejado."
      ],
      "metadata": {
        "id": "5sqxeadZ611Y"
      }
    },
    {
      "cell_type": "code",
      "source": [
        "# Testanto a função de requisição básica\n",
        "\n",
        "pesquisa = \"Brasil\"\n",
        "artigo = consulta_basica_wiki(pesquisa)\n",
        "print(artigo)"
      ],
      "metadata": {
        "id": "T_Wpes_lCaKG"
      },
      "execution_count": null,
      "outputs": []
    },
    {
      "cell_type": "markdown",
      "source": [
        "#### **EXEMPLOS PRÁTICOS**"
      ],
      "metadata": {
        "id": "marqph_raryN"
      }
    },
    {
      "cell_type": "markdown",
      "source": [
        "**Páginas mais visitadas**\n",
        "\n",
        "De forma bem simples, podemos utilizar a API da Wikipedia para extrair as páginas mais visitadas nas últimas 24h.\n",
        "\n",
        "Este resultado pode ser importante para diversas"
      ],
      "metadata": {
        "id": "aE0A21k3eMPI"
      }
    },
    {
      "cell_type": "code",
      "source": [
        "def mais_visitadas(language_code, limit):\n",
        "\n",
        "    url = f\"https://{language_code}.wikipedia.org/w/api.php\"\n",
        "\n",
        "    params = {\n",
        "        \"action\": \"query\",\n",
        "        \"format\": \"json\",\n",
        "        \"list\": \"mostviewed\",\n",
        "        \"pvimlimit\": limit  # Define o número de páginas mais visitadas a serem retornadas\n",
        "    }\n",
        "\n",
        "    response = requests.get(url, params=params)\n",
        "    data = response.json()\n",
        "\n",
        "    if 'query' in data and 'mostviewed' in data['query']:\n",
        "        most_viewed_pages = data['query']['mostviewed']\n",
        "        return [page['title'] for page in most_viewed_pages]\n",
        "    else:\n",
        "        return None\n",
        "\n"
      ],
      "metadata": {
        "id": "aL49vegTa_4e"
      },
      "execution_count": 61,
      "outputs": []
    },
    {
      "cell_type": "markdown",
      "source": [
        "Observamos que, configurando os parâmetros *language_code* podemos definir em qual idioma iremos fazer a busca, e em *limit*, estabelecemos os primeiros n resultados (no caso, as n primeiras páginas mais visitadas nas últimas 24h)."
      ],
      "metadata": {
        "id": "lpUUOHxknUfd"
      }
    },
    {
      "cell_type": "code",
      "source": [
        "# Utilizando a função das páginas mais visitadas\n",
        "paginas_mais_visitadas = mais_visitadas(language_code='pt', limit=10)\n",
        "\n",
        "if paginas_mais_visitadas:\n",
        "    for page in paginas_mais_visitadas:\n",
        "        print(page)\n",
        "else:\n",
        "    print(\"Falha ao obter as páginas mais visitadas.\")\n"
      ],
      "metadata": {
        "colab": {
          "base_uri": "https://localhost:8080/"
        },
        "id": "EVkIUmVjnL51",
        "outputId": "18f9cbc1-e73d-4a34-be18-611ffbab1e4d"
      },
      "execution_count": 62,
      "outputs": [
        {
          "output_type": "stream",
          "name": "stdout",
          "text": [
            "Wikipédia:Página principal\n",
            "Especial:Pesquisar\n",
            "Dia de Todos os Santos\n",
            "Wikipédia:Wikiconcurso Mulheres Brasileiras no Esporte\n",
            "Dia das Bruxas\n",
            "Caso Richthofen\n",
            "Ballon d'Or\n",
            "Matthew Perry\n",
            "Gabrielle Douglas\n",
            "Israel\n"
          ]
        }
      ]
    },
    {
      "cell_type": "markdown",
      "source": [
        "**Resumo de artigos**\n",
        "\n",
        "A MediaWiki API apresenta um endpoint que permite a busca por artigos resumidos na Wikipedia. A utilização de artigos resumidos pode ser útil para Análise e Processamento de Linguagem Natural, ou ainda, para diversas tarefas nas quais deseja-se apresentar uma breve introdução sobre determinado tema.\n",
        "\n",
        "No exemplo abaixo, o parâmetro \"**exintro**\" é responsável por retornar somente o texto introdutório de um determinado artigo, enquanto o \"**explaintext**\" garante que o conteúdo retornado esteja na formatação simples, melhorando a legibilidade do texto."
      ],
      "metadata": {
        "id": "RnbFqOTKfelx"
      }
    },
    {
      "cell_type": "code",
      "source": [
        "def resumo_artigo(titulo, language):\n",
        "\n",
        "    url = f\"https://{language}.wikipedia.org/w/api.php\"\n",
        "\n",
        "\n",
        "    params = {\n",
        "        \"action\": \"query\",\n",
        "        \"format\": \"json\",\n",
        "        \"titles\": titulo,\n",
        "        \"prop\": \"extracts\",\n",
        "        \"exintro\": True,  # Obtém apenas o texto introdutório\n",
        "        \"explaintext\": True  # Retorna o texto sem formatação\n",
        "    }\n",
        "\n",
        "    response = requests.get(url, params=params)\n",
        "    data = response.json()\n",
        "\n",
        "\n",
        "    if 'query' in data and 'pages' in data['query']:\n",
        "        page_id = list(data['query']['pages'].keys())[0]\n",
        "        if 'extract' in data['query']['pages'][page_id]:\n",
        "            return data['query']['pages'][page_id]['extract']\n",
        "\n",
        "    return \"Resumo não encontrado.\"\n",
        "\n"
      ],
      "metadata": {
        "id": "aSdMdqEwfcMK"
      },
      "execution_count": 57,
      "outputs": []
    },
    {
      "cell_type": "markdown",
      "source": [
        "Podemos obter o resumo dos mais variados artigos da Wiki inserindo seu título e idioma de busca (no parâmetro \"*language*\"). Para melhorar a visualizaçao do conteúdo, iremos enviar o resultado da pesquisa para um arquivo no formato .txt)."
      ],
      "metadata": {
        "id": "nizXqnpriCNB"
      }
    },
    {
      "cell_type": "code",
      "source": [
        "# Utilizando a função para retornar o resumo sobre determinado tema. Por exemplo: Gaiola de Faraday\n",
        "\n",
        "titulo = 'Gaiola de Faraday' #Insira o tema que deseja buscar\n",
        "resumo = resumo_artigo(titulo, language='pt')\n",
        "\n",
        "#print(resumo) #Descomentar para obter o resumo \"printado\".\n",
        "\n",
        "# Formatando o título buscado e salvando o resultado em um arquivo de texto\n",
        "with open(f\"resumo-{titulo.lower().replace(' ', '-')}.txt\", 'w', encoding='utf-8') as arquivo:\n",
        "  arquivo.write(resumo)\n",
        "  print(f\"Resumo salvo no arquivo resumo-{titulo.lower().replace(' ', '-')}.txt\")"
      ],
      "metadata": {
        "colab": {
          "base_uri": "https://localhost:8080/"
        },
        "id": "VQvqa5HdhzHZ",
        "outputId": "fd319633-f901-40a8-ae8a-563e709360c1"
      },
      "execution_count": 59,
      "outputs": [
        {
          "output_type": "stream",
          "name": "stdout",
          "text": [
            "Resumo salvo no arquivo resumo-gaiola-de-faraday.txt\n"
          ]
        }
      ]
    },
    {
      "cell_type": "markdown",
      "source": [
        "#### **CONSIDERAÇÕES**"
      ],
      "metadata": {
        "id": "xIP2DoACa7of"
      }
    },
    {
      "cell_type": "markdown",
      "source": [
        "Neste tutorial, pudemos verificar de forma resumida, a utilização da MediaWiki API e implementação em tarefas simples.\n",
        "Vimos que, a partir da utilização de apenas uma biblioteca (*requests*) pudemos obter informações sobre diferentes temas, tendo ainda a opção de configurar o idioma de busca.\n",
        "\n",
        "A MediaWiki API apresenta uma série de recursos que podem ser de grande utilidade para a obtenção de informações, dados analíticos e extração de texto para aplicação de técnicas de estudo e análise textual.\n",
        "Visto que a Wikipedia é uma das maiores enciclopédias atualmente, torna-se extremamente vantajoso ter a possibilidade de manipular esta vasta quantidade de informação - sejam textos, imagens, ou ainda, metadados - de forma flexível e repleta de recursos e ferramentas para integração."
      ],
      "metadata": {
        "id": "dCRN197XbcQH"
      }
    },
    {
      "cell_type": "markdown",
      "source": [
        "**REFERÊNCIAS**\n",
        "\n",
        "---\n",
        "\n"
      ],
      "metadata": {
        "id": "DJa20CJRpQ7t"
      }
    },
    {
      "cell_type": "markdown",
      "source": [
        "[How To Use The Wikipedia API](https://medium.com/codesnippet/how-to-use-the-wikipedia-api-f5d4e4611b8e)\n",
        "\n",
        "[Getting started with Wikimedia APIs](https://api.wikimedia.org/wiki/Getting_started_with_Wikimedia_APIs)\n",
        "\n",
        "[Wikipédia:Central de pesquisas/Portal de dados/API](https://pt.wikipedia.org/wiki/Wikip%C3%A9dia:Central_de_pesquisas/Portal_de_dados/API)"
      ],
      "metadata": {
        "id": "GxpuIOR3pUWr"
      }
    }
  ]
}